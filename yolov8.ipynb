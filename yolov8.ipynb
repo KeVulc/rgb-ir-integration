{
 "cells": [
  {
   "cell_type": "code",
   "execution_count": 4,
   "metadata": {},
   "outputs": [
    {
     "name": "stdout",
     "output_type": "stream",
     "text": [
      "Ultralytics YOLOv8.0.215 🚀 Python-3.11.6 torch-2.1.1 \n"
     ]
    },
    {
     "ename": "ValueError",
     "evalue": "Invalid CUDA 'device=0' requested. Use 'device=cpu' or pass valid CUDA device(s) if available, i.e. 'device=0' or 'device=0,1,2,3' for Multi-GPU.\n\ntorch.cuda.is_available(): False\ntorch.cuda.device_count(): 0\nos.environ['CUDA_VISIBLE_DEVICES']: None\nSee https://pytorch.org/get-started/locally/ for up-to-date torch install instructions if no CUDA devices are seen by torch.\n",
     "output_type": "error",
     "traceback": [
      "\u001b[1;31m---------------------------------------------------------------------------\u001b[0m",
      "\u001b[1;31mValueError\u001b[0m                                Traceback (most recent call last)",
      "\u001b[1;32mc:\\Users\\Kevin\\SchoolStuff\\grad\\Fa23\\CS5510\\rgb-ir-integration\\yolov8.ipynb Cell 1\u001b[0m line \u001b[0;36m3\n\u001b[0;32m      <a href='vscode-notebook-cell:/c%3A/Users/Kevin/SchoolStuff/grad/Fa23/CS5510/rgb-ir-integration/yolov8.ipynb#W0sZmlsZQ%3D%3D?line=0'>1</a>\u001b[0m get_ipython()\u001b[39m.\u001b[39mrun_line_magic(\u001b[39m'\u001b[39m\u001b[39mpip\u001b[39m\u001b[39m'\u001b[39m, \u001b[39m'\u001b[39m\u001b[39minstall ultralytics\u001b[39m\u001b[39m'\u001b[39m)\n\u001b[0;32m      <a href='vscode-notebook-cell:/c%3A/Users/Kevin/SchoolStuff/grad/Fa23/CS5510/rgb-ir-integration/yolov8.ipynb#W0sZmlsZQ%3D%3D?line=1'>2</a>\u001b[0m \u001b[39mimport\u001b[39;00m \u001b[39multralytics\u001b[39;00m\n\u001b[1;32m----> <a href='vscode-notebook-cell:/c%3A/Users/Kevin/SchoolStuff/grad/Fa23/CS5510/rgb-ir-integration/yolov8.ipynb#W0sZmlsZQ%3D%3D?line=2'>3</a>\u001b[0m ultralytics\u001b[39m.\u001b[39;49mchecks(device\u001b[39m=\u001b[39;49m\u001b[39m'\u001b[39;49m\u001b[39mcuda\u001b[39;49m\u001b[39m'\u001b[39;49m)\n",
      "File \u001b[1;32mc:\\Users\\Kevin\\anaconda3\\envs\\rgbir\\Lib\\site-packages\\ultralytics\\utils\\checks.py:527\u001b[0m, in \u001b[0;36mcheck_yolo\u001b[1;34m(verbose, device)\u001b[0m\n\u001b[0;32m    524\u001b[0m \u001b[39melse\u001b[39;00m:\n\u001b[0;32m    525\u001b[0m     s \u001b[39m=\u001b[39m \u001b[39m'\u001b[39m\u001b[39m'\u001b[39m\n\u001b[1;32m--> 527\u001b[0m select_device(device\u001b[39m=\u001b[39;49mdevice, newline\u001b[39m=\u001b[39;49m\u001b[39mFalse\u001b[39;49;00m)\n\u001b[0;32m    528\u001b[0m LOGGER\u001b[39m.\u001b[39minfo(\u001b[39mf\u001b[39m\u001b[39m'\u001b[39m\u001b[39mSetup complete ✅ \u001b[39m\u001b[39m{\u001b[39;00ms\u001b[39m}\u001b[39;00m\u001b[39m'\u001b[39m)\n",
      "File \u001b[1;32mc:\\Users\\Kevin\\anaconda3\\envs\\rgbir\\Lib\\site-packages\\ultralytics\\utils\\torch_utils.py:119\u001b[0m, in \u001b[0;36mselect_device\u001b[1;34m(device, batch, newline, verbose)\u001b[0m\n\u001b[0;32m    116\u001b[0m         LOGGER\u001b[39m.\u001b[39minfo(s)\n\u001b[0;32m    117\u001b[0m         install \u001b[39m=\u001b[39m \u001b[39m'\u001b[39m\u001b[39mSee https://pytorch.org/get-started/locally/ for up-to-date torch install instructions if no \u001b[39m\u001b[39m'\u001b[39m \\\n\u001b[0;32m    118\u001b[0m                   \u001b[39m'\u001b[39m\u001b[39mCUDA devices are seen by torch.\u001b[39m\u001b[39m\\n\u001b[39;00m\u001b[39m'\u001b[39m \u001b[39mif\u001b[39;00m torch\u001b[39m.\u001b[39mcuda\u001b[39m.\u001b[39mdevice_count() \u001b[39m==\u001b[39m \u001b[39m0\u001b[39m \u001b[39melse\u001b[39;00m \u001b[39m'\u001b[39m\u001b[39m'\u001b[39m\n\u001b[1;32m--> 119\u001b[0m         \u001b[39mraise\u001b[39;00m \u001b[39mValueError\u001b[39;00m(\u001b[39mf\u001b[39m\u001b[39m\"\u001b[39m\u001b[39mInvalid CUDA \u001b[39m\u001b[39m'\u001b[39m\u001b[39mdevice=\u001b[39m\u001b[39m{\u001b[39;00mdevice\u001b[39m}\u001b[39;00m\u001b[39m'\u001b[39m\u001b[39m requested.\u001b[39m\u001b[39m\"\u001b[39m\n\u001b[0;32m    120\u001b[0m                          \u001b[39mf\u001b[39m\u001b[39m\"\u001b[39m\u001b[39m Use \u001b[39m\u001b[39m'\u001b[39m\u001b[39mdevice=cpu\u001b[39m\u001b[39m'\u001b[39m\u001b[39m or pass valid CUDA device(s) if available,\u001b[39m\u001b[39m\"\u001b[39m\n\u001b[0;32m    121\u001b[0m                          \u001b[39mf\u001b[39m\u001b[39m\"\u001b[39m\u001b[39m i.e. \u001b[39m\u001b[39m'\u001b[39m\u001b[39mdevice=0\u001b[39m\u001b[39m'\u001b[39m\u001b[39m or \u001b[39m\u001b[39m'\u001b[39m\u001b[39mdevice=0,1,2,3\u001b[39m\u001b[39m'\u001b[39m\u001b[39m for Multi-GPU.\u001b[39m\u001b[39m\\n\u001b[39;00m\u001b[39m\"\u001b[39m\n\u001b[0;32m    122\u001b[0m                          \u001b[39mf\u001b[39m\u001b[39m'\u001b[39m\u001b[39m\\n\u001b[39;00m\u001b[39mtorch.cuda.is_available(): \u001b[39m\u001b[39m{\u001b[39;00mtorch\u001b[39m.\u001b[39mcuda\u001b[39m.\u001b[39mis_available()\u001b[39m}\u001b[39;00m\u001b[39m'\u001b[39m\n\u001b[0;32m    123\u001b[0m                          \u001b[39mf\u001b[39m\u001b[39m'\u001b[39m\u001b[39m\\n\u001b[39;00m\u001b[39mtorch.cuda.device_count(): \u001b[39m\u001b[39m{\u001b[39;00mtorch\u001b[39m.\u001b[39mcuda\u001b[39m.\u001b[39mdevice_count()\u001b[39m}\u001b[39;00m\u001b[39m'\u001b[39m\n\u001b[0;32m    124\u001b[0m                          \u001b[39mf\u001b[39m\u001b[39m\"\u001b[39m\u001b[39m\\n\u001b[39;00m\u001b[39mos.environ[\u001b[39m\u001b[39m'\u001b[39m\u001b[39mCUDA_VISIBLE_DEVICES\u001b[39m\u001b[39m'\u001b[39m\u001b[39m]: \u001b[39m\u001b[39m{\u001b[39;00mvisible\u001b[39m}\u001b[39;00m\u001b[39m\\n\u001b[39;00m\u001b[39m\"\u001b[39m\n\u001b[0;32m    125\u001b[0m                          \u001b[39mf\u001b[39m\u001b[39m'\u001b[39m\u001b[39m{\u001b[39;00minstall\u001b[39m}\u001b[39;00m\u001b[39m'\u001b[39m)\n\u001b[0;32m    127\u001b[0m \u001b[39mif\u001b[39;00m \u001b[39mnot\u001b[39;00m cpu \u001b[39mand\u001b[39;00m \u001b[39mnot\u001b[39;00m mps \u001b[39mand\u001b[39;00m torch\u001b[39m.\u001b[39mcuda\u001b[39m.\u001b[39mis_available():  \u001b[39m# prefer GPU if available\u001b[39;00m\n\u001b[0;32m    128\u001b[0m     devices \u001b[39m=\u001b[39m device\u001b[39m.\u001b[39msplit(\u001b[39m'\u001b[39m\u001b[39m,\u001b[39m\u001b[39m'\u001b[39m) \u001b[39mif\u001b[39;00m device \u001b[39melse\u001b[39;00m \u001b[39m'\u001b[39m\u001b[39m0\u001b[39m\u001b[39m'\u001b[39m  \u001b[39m# range(torch.cuda.device_count())  # i.e. 0,1,6,7\u001b[39;00m\n",
      "\u001b[1;31mValueError\u001b[0m: Invalid CUDA 'device=0' requested. Use 'device=cpu' or pass valid CUDA device(s) if available, i.e. 'device=0' or 'device=0,1,2,3' for Multi-GPU.\n\ntorch.cuda.is_available(): False\ntorch.cuda.device_count(): 0\nos.environ['CUDA_VISIBLE_DEVICES']: None\nSee https://pytorch.org/get-started/locally/ for up-to-date torch install instructions if no CUDA devices are seen by torch.\n"
     ]
    }
   ],
   "source": [
    "# %pip install ultralytics\n",
    "# import ultralytics\n",
    "# ultralytics.checks()"
   ]
  },
  {
   "cell_type": "code",
   "execution_count": 3,
   "metadata": {},
   "outputs": [
    {
     "name": "stdout",
     "output_type": "stream",
     "text": [
      "Ultralytics YOLOv8.0.215 🚀 Python-3.11.4 torch-2.1.1+cpu CPU (AMD Ryzen 5 5600X 6-Core Processor)\n",
      "YOLOv8n summary (fused): 168 layers, 3151904 parameters, 0 gradients, 8.7 GFLOPs\n",
      "\n",
      "\u001b[34m\u001b[1mPyTorch:\u001b[0m starting from 'yolov8n.pt' with input shape (1, 3, 640, 640) BCHW and output shape(s) (1, 84, 8400) (6.2 MB)\n",
      "\n",
      "\u001b[34m\u001b[1mTorchScript:\u001b[0m starting export with torch 2.1.1+cpu...\n",
      "\u001b[34m\u001b[1mTorchScript:\u001b[0m export success ✅ 1.5s, saved as 'yolov8n.torchscript' (12.5 MB)\n",
      "\n",
      "Export complete (3.4s)\n",
      "Results saved to \u001b[1mC:\\Users\\Kevin\\SchoolStuff\\grad\\Fa23\\CS5510\\rgb-ir-integration\u001b[0m\n",
      "Predict:         yolo predict task=detect model=yolov8n.torchscript imgsz=640  \n",
      "Validate:        yolo val task=detect model=yolov8n.torchscript imgsz=640 data=coco.yaml  \n",
      "Visualize:       https://netron.app\n",
      "yolov8n.torchscript\n"
     ]
    }
   ],
   "source": [
    "from ultralytics import YOLO\n",
    "\n",
    "model = YOLO('yolov8x.pt')  # load a pretrained YOLOv8n classification model\n",
    "result = model('https://ultralytics.com/images/zidane.jpg')  # predict on an image\n",
    "\n",
    "names = result[0].names\n",
    "boxes = result[0].boxes\n",
    "\n",
    "found_classes = boxes.cls\n",
    "found_pobabilites = boxes.conf\n",
    "found_xyxy = boxes.xyxy\n",
    "\n",
    "for index, value in enumerate(found_classes.tolist()):\n",
    "  print(f'{names[int(value)]}: {found_pobabilites[int(index)]}')"
   ]
  }
 ],
 "metadata": {
  "kernelspec": {
   "display_name": "cfdet",
   "language": "python",
   "name": "python3"
  },
  "language_info": {
   "codemirror_mode": {
    "name": "ipython",
    "version": 3
   },
   "file_extension": ".py",
   "mimetype": "text/x-python",
   "name": "python",
   "nbconvert_exporter": "python",
   "pygments_lexer": "ipython3",
   "version": "3.11.5"
  }
 },
 "nbformat": 4,
 "nbformat_minor": 2
}
